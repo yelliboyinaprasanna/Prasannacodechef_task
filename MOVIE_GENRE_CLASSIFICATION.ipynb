{
  "nbformat": 4,
  "nbformat_minor": 0,
  "metadata": {
    "colab": {
      "provenance": []
    },
    "kernelspec": {
      "name": "python3",
      "display_name": "Python 3"
    },
    "language_info": {
      "name": "python"
    }
  },
  "cells": [
    {
      "cell_type": "code",
      "execution_count": 1,
      "metadata": {
        "id": "V7IAPTD2JkmW"
      },
      "outputs": [],
      "source": [
        "import numpy as np\n",
        "import pandas as pd\n",
        "import seaborn as sns\n",
        "import matplotlib.pyplot as plt\n",
        "import nltk"
      ]
    },
    {
      "cell_type": "code",
      "source": [
        "from bs4 import BeautifulSoup\n",
        "import re\n",
        "from nltk.corpus import stopwords\n",
        "nltk.download('stopwords')\n",
        "from sklearn import svm\n",
        "from sklearn.model_selection import train_test_split\n",
        "from sklearn.feature_extraction.text import CountVectorizer\n",
        "from sklearn.metrics import accuracy_score, confusion_matrix, recall_score, precision_score, f1_score"
      ],
      "metadata": {
        "colab": {
          "base_uri": "https://localhost:8080/"
        },
        "id": "-tiL0khUJzOb",
        "outputId": "02b9ec29-1844-4587-bb3c-e29d2e849444"
      },
      "execution_count": 2,
      "outputs": [
        {
          "output_type": "stream",
          "name": "stderr",
          "text": [
            "[nltk_data] Downloading package stopwords to /root/nltk_data...\n",
            "[nltk_data]   Unzipping corpora/stopwords.zip.\n"
          ]
        }
      ]
    },
    {
      "cell_type": "code",
      "source": [
        "df = pd.read_csv(\"wiki_movie_plots_deduped.csv\")\n"
      ],
      "metadata": {
        "id": "xycieY3tKBqU"
      },
      "execution_count": 4,
      "outputs": []
    },
    {
      "cell_type": "code",
      "source": [
        "df.tail()"
      ],
      "metadata": {
        "colab": {
          "base_uri": "https://localhost:8080/",
          "height": 441
        },
        "id": "iI42q3BdKRKu",
        "outputId": "1d7c06b0-f586-4eaa-baea-f9180b07bfee"
      },
      "execution_count": 5,
      "outputs": [
        {
          "output_type": "execute_result",
          "data": {
            "text/plain": [
              "      Release Year                   Title Origin/Ethnicity          Director  \\\n",
              "3588          1943  I Walked with a Zombie         American  Jacques Tourneur   \n",
              "3589          1943       Immortal Sergeant         American     John M. Stahl   \n",
              "3590          1943         In Old Oklahoma         American  Albert S. Rogell   \n",
              "3591          1943          The Iron Major         American       Ray Enright   \n",
              "3592          1943  Isle of Forgotten Sins         American    Edgar G. Ulmer   \n",
              "\n",
              "                                      Cast         Genre  \\\n",
              "3588               Frances Dee, Tom Conway        horror   \n",
              "3589           Henry Fonda, Maureen O'Hara           war   \n",
              "3590  John Wayne, Martha Scott, Dale Evans       western   \n",
              "3591             Pat O'Brien, Ruth Warrick  biographical   \n",
              "3592      Gale Sondergaard, John Carradine     adventure   \n",
              "\n",
              "                                              Wiki Page  \\\n",
              "3588  https://en.wikipedia.org/wiki/I_Walked_with_a_...   \n",
              "3589    https://en.wikipedia.org/wiki/Immortal_Sergeant   \n",
              "3590      https://en.wikipedia.org/wiki/In_Old_Oklahoma   \n",
              "3591       https://en.wikipedia.org/wiki/The_Iron_Major   \n",
              "3592  https://en.wikipedia.org/wiki/Isle_of_Forgotte...   \n",
              "\n",
              "                                                   Plot  \n",
              "3588  Betsy Connell (Frances Dee), a Canadian nurse,...  \n",
              "3589  In North Africa, experienced Sergeant Kelly (T...  \n",
              "3590  Eastern school teacher Catherine Allen becomes...  \n",
              "3591  Florence Cavanaugh and a priest, Tim Donovan, ...  \n",
              "3592  Somewhere on one of the English-speaking South...  "
            ],
            "text/html": [
              "\n",
              "\n",
              "  <div id=\"df-970fbbd4-6f75-4f31-b9d8-2562be39c96a\">\n",
              "    <div class=\"colab-df-container\">\n",
              "      <div>\n",
              "<style scoped>\n",
              "    .dataframe tbody tr th:only-of-type {\n",
              "        vertical-align: middle;\n",
              "    }\n",
              "\n",
              "    .dataframe tbody tr th {\n",
              "        vertical-align: top;\n",
              "    }\n",
              "\n",
              "    .dataframe thead th {\n",
              "        text-align: right;\n",
              "    }\n",
              "</style>\n",
              "<table border=\"1\" class=\"dataframe\">\n",
              "  <thead>\n",
              "    <tr style=\"text-align: right;\">\n",
              "      <th></th>\n",
              "      <th>Release Year</th>\n",
              "      <th>Title</th>\n",
              "      <th>Origin/Ethnicity</th>\n",
              "      <th>Director</th>\n",
              "      <th>Cast</th>\n",
              "      <th>Genre</th>\n",
              "      <th>Wiki Page</th>\n",
              "      <th>Plot</th>\n",
              "    </tr>\n",
              "  </thead>\n",
              "  <tbody>\n",
              "    <tr>\n",
              "      <th>3588</th>\n",
              "      <td>1943</td>\n",
              "      <td>I Walked with a Zombie</td>\n",
              "      <td>American</td>\n",
              "      <td>Jacques Tourneur</td>\n",
              "      <td>Frances Dee, Tom Conway</td>\n",
              "      <td>horror</td>\n",
              "      <td>https://en.wikipedia.org/wiki/I_Walked_with_a_...</td>\n",
              "      <td>Betsy Connell (Frances Dee), a Canadian nurse,...</td>\n",
              "    </tr>\n",
              "    <tr>\n",
              "      <th>3589</th>\n",
              "      <td>1943</td>\n",
              "      <td>Immortal Sergeant</td>\n",
              "      <td>American</td>\n",
              "      <td>John M. Stahl</td>\n",
              "      <td>Henry Fonda, Maureen O'Hara</td>\n",
              "      <td>war</td>\n",
              "      <td>https://en.wikipedia.org/wiki/Immortal_Sergeant</td>\n",
              "      <td>In North Africa, experienced Sergeant Kelly (T...</td>\n",
              "    </tr>\n",
              "    <tr>\n",
              "      <th>3590</th>\n",
              "      <td>1943</td>\n",
              "      <td>In Old Oklahoma</td>\n",
              "      <td>American</td>\n",
              "      <td>Albert S. Rogell</td>\n",
              "      <td>John Wayne, Martha Scott, Dale Evans</td>\n",
              "      <td>western</td>\n",
              "      <td>https://en.wikipedia.org/wiki/In_Old_Oklahoma</td>\n",
              "      <td>Eastern school teacher Catherine Allen becomes...</td>\n",
              "    </tr>\n",
              "    <tr>\n",
              "      <th>3591</th>\n",
              "      <td>1943</td>\n",
              "      <td>The Iron Major</td>\n",
              "      <td>American</td>\n",
              "      <td>Ray Enright</td>\n",
              "      <td>Pat O'Brien, Ruth Warrick</td>\n",
              "      <td>biographical</td>\n",
              "      <td>https://en.wikipedia.org/wiki/The_Iron_Major</td>\n",
              "      <td>Florence Cavanaugh and a priest, Tim Donovan, ...</td>\n",
              "    </tr>\n",
              "    <tr>\n",
              "      <th>3592</th>\n",
              "      <td>1943</td>\n",
              "      <td>Isle of Forgotten Sins</td>\n",
              "      <td>American</td>\n",
              "      <td>Edgar G. Ulmer</td>\n",
              "      <td>Gale Sondergaard, John Carradine</td>\n",
              "      <td>adventure</td>\n",
              "      <td>https://en.wikipedia.org/wiki/Isle_of_Forgotte...</td>\n",
              "      <td>Somewhere on one of the English-speaking South...</td>\n",
              "    </tr>\n",
              "  </tbody>\n",
              "</table>\n",
              "</div>\n",
              "      <button class=\"colab-df-convert\" onclick=\"convertToInteractive('df-970fbbd4-6f75-4f31-b9d8-2562be39c96a')\"\n",
              "              title=\"Convert this dataframe to an interactive table.\"\n",
              "              style=\"display:none;\">\n",
              "\n",
              "  <svg xmlns=\"http://www.w3.org/2000/svg\" height=\"24px\"viewBox=\"0 0 24 24\"\n",
              "       width=\"24px\">\n",
              "    <path d=\"M0 0h24v24H0V0z\" fill=\"none\"/>\n",
              "    <path d=\"M18.56 5.44l.94 2.06.94-2.06 2.06-.94-2.06-.94-.94-2.06-.94 2.06-2.06.94zm-11 1L8.5 8.5l.94-2.06 2.06-.94-2.06-.94L8.5 2.5l-.94 2.06-2.06.94zm10 10l.94 2.06.94-2.06 2.06-.94-2.06-.94-.94-2.06-.94 2.06-2.06.94z\"/><path d=\"M17.41 7.96l-1.37-1.37c-.4-.4-.92-.59-1.43-.59-.52 0-1.04.2-1.43.59L10.3 9.45l-7.72 7.72c-.78.78-.78 2.05 0 2.83L4 21.41c.39.39.9.59 1.41.59.51 0 1.02-.2 1.41-.59l7.78-7.78 2.81-2.81c.8-.78.8-2.07 0-2.86zM5.41 20L4 18.59l7.72-7.72 1.47 1.35L5.41 20z\"/>\n",
              "  </svg>\n",
              "      </button>\n",
              "\n",
              "\n",
              "\n",
              "    <div id=\"df-f1032fc5-597a-4547-958c-ac294a0cd615\">\n",
              "      <button class=\"colab-df-quickchart\" onclick=\"quickchart('df-f1032fc5-597a-4547-958c-ac294a0cd615')\"\n",
              "              title=\"Suggest charts.\"\n",
              "              style=\"display:none;\">\n",
              "\n",
              "<svg xmlns=\"http://www.w3.org/2000/svg\" height=\"24px\"viewBox=\"0 0 24 24\"\n",
              "     width=\"24px\">\n",
              "    <g>\n",
              "        <path d=\"M19 3H5c-1.1 0-2 .9-2 2v14c0 1.1.9 2 2 2h14c1.1 0 2-.9 2-2V5c0-1.1-.9-2-2-2zM9 17H7v-7h2v7zm4 0h-2V7h2v10zm4 0h-2v-4h2v4z\"/>\n",
              "    </g>\n",
              "</svg>\n",
              "      </button>\n",
              "    </div>\n",
              "\n",
              "<style>\n",
              "  .colab-df-quickchart {\n",
              "    background-color: #E8F0FE;\n",
              "    border: none;\n",
              "    border-radius: 50%;\n",
              "    cursor: pointer;\n",
              "    display: none;\n",
              "    fill: #1967D2;\n",
              "    height: 32px;\n",
              "    padding: 0 0 0 0;\n",
              "    width: 32px;\n",
              "  }\n",
              "\n",
              "  .colab-df-quickchart:hover {\n",
              "    background-color: #E2EBFA;\n",
              "    box-shadow: 0px 1px 2px rgba(60, 64, 67, 0.3), 0px 1px 3px 1px rgba(60, 64, 67, 0.15);\n",
              "    fill: #174EA6;\n",
              "  }\n",
              "\n",
              "  [theme=dark] .colab-df-quickchart {\n",
              "    background-color: #3B4455;\n",
              "    fill: #D2E3FC;\n",
              "  }\n",
              "\n",
              "  [theme=dark] .colab-df-quickchart:hover {\n",
              "    background-color: #434B5C;\n",
              "    box-shadow: 0px 1px 3px 1px rgba(0, 0, 0, 0.15);\n",
              "    filter: drop-shadow(0px 1px 2px rgba(0, 0, 0, 0.3));\n",
              "    fill: #FFFFFF;\n",
              "  }\n",
              "</style>\n",
              "\n",
              "    <script>\n",
              "      async function quickchart(key) {\n",
              "        const containerElement = document.querySelector('#' + key);\n",
              "        const charts = await google.colab.kernel.invokeFunction(\n",
              "            'suggestCharts', [key], {});\n",
              "      }\n",
              "    </script>\n",
              "\n",
              "      <script>\n",
              "\n",
              "function displayQuickchartButton(domScope) {\n",
              "  let quickchartButtonEl =\n",
              "    domScope.querySelector('#df-f1032fc5-597a-4547-958c-ac294a0cd615 button.colab-df-quickchart');\n",
              "  quickchartButtonEl.style.display =\n",
              "    google.colab.kernel.accessAllowed ? 'block' : 'none';\n",
              "}\n",
              "\n",
              "        displayQuickchartButton(document);\n",
              "      </script>\n",
              "      <style>\n",
              "    .colab-df-container {\n",
              "      display:flex;\n",
              "      flex-wrap:wrap;\n",
              "      gap: 12px;\n",
              "    }\n",
              "\n",
              "    .colab-df-convert {\n",
              "      background-color: #E8F0FE;\n",
              "      border: none;\n",
              "      border-radius: 50%;\n",
              "      cursor: pointer;\n",
              "      display: none;\n",
              "      fill: #1967D2;\n",
              "      height: 32px;\n",
              "      padding: 0 0 0 0;\n",
              "      width: 32px;\n",
              "    }\n",
              "\n",
              "    .colab-df-convert:hover {\n",
              "      background-color: #E2EBFA;\n",
              "      box-shadow: 0px 1px 2px rgba(60, 64, 67, 0.3), 0px 1px 3px 1px rgba(60, 64, 67, 0.15);\n",
              "      fill: #174EA6;\n",
              "    }\n",
              "\n",
              "    [theme=dark] .colab-df-convert {\n",
              "      background-color: #3B4455;\n",
              "      fill: #D2E3FC;\n",
              "    }\n",
              "\n",
              "    [theme=dark] .colab-df-convert:hover {\n",
              "      background-color: #434B5C;\n",
              "      box-shadow: 0px 1px 3px 1px rgba(0, 0, 0, 0.15);\n",
              "      filter: drop-shadow(0px 1px 2px rgba(0, 0, 0, 0.3));\n",
              "      fill: #FFFFFF;\n",
              "    }\n",
              "  </style>\n",
              "\n",
              "      <script>\n",
              "        const buttonEl =\n",
              "          document.querySelector('#df-970fbbd4-6f75-4f31-b9d8-2562be39c96a button.colab-df-convert');\n",
              "        buttonEl.style.display =\n",
              "          google.colab.kernel.accessAllowed ? 'block' : 'none';\n",
              "\n",
              "        async function convertToInteractive(key) {\n",
              "          const element = document.querySelector('#df-970fbbd4-6f75-4f31-b9d8-2562be39c96a');\n",
              "          const dataTable =\n",
              "            await google.colab.kernel.invokeFunction('convertToInteractive',\n",
              "                                                     [key], {});\n",
              "          if (!dataTable) return;\n",
              "\n",
              "          const docLinkHtml = 'Like what you see? Visit the ' +\n",
              "            '<a target=\"_blank\" href=https://colab.research.google.com/notebooks/data_table.ipynb>data table notebook</a>'\n",
              "            + ' to learn more about interactive tables.';\n",
              "          element.innerHTML = '';\n",
              "          dataTable['output_type'] = 'display_data';\n",
              "          await google.colab.output.renderOutput(dataTable, element);\n",
              "          const docLink = document.createElement('div');\n",
              "          docLink.innerHTML = docLinkHtml;\n",
              "          element.appendChild(docLink);\n",
              "        }\n",
              "      </script>\n",
              "    </div>\n",
              "  </div>\n"
            ]
          },
          "metadata": {},
          "execution_count": 5
        }
      ]
    },
    {
      "cell_type": "code",
      "source": [
        "df.info()"
      ],
      "metadata": {
        "colab": {
          "base_uri": "https://localhost:8080/"
        },
        "id": "uGu1CmFqKYu6",
        "outputId": "722ffc57-0ca2-40ab-afbc-84a9fae4f4eb"
      },
      "execution_count": 6,
      "outputs": [
        {
          "output_type": "stream",
          "name": "stdout",
          "text": [
            "<class 'pandas.core.frame.DataFrame'>\n",
            "RangeIndex: 3593 entries, 0 to 3592\n",
            "Data columns (total 8 columns):\n",
            " #   Column            Non-Null Count  Dtype \n",
            "---  ------            --------------  ----- \n",
            " 0   Release Year      3593 non-null   int64 \n",
            " 1   Title             3593 non-null   object\n",
            " 2   Origin/Ethnicity  3593 non-null   object\n",
            " 3   Director          3593 non-null   object\n",
            " 4   Cast              3547 non-null   object\n",
            " 5   Genre             3593 non-null   object\n",
            " 6   Wiki Page         3593 non-null   object\n",
            " 7   Plot              3593 non-null   object\n",
            "dtypes: int64(1), object(7)\n",
            "memory usage: 224.7+ KB\n"
          ]
        }
      ]
    },
    {
      "cell_type": "code",
      "source": [
        "df['Genre']=df['Genre'].replace('unknown',np.nan)\n",
        "df=df.dropna(axis=0, subset=['Genre'])\n",
        "print(df.tail())"
      ],
      "metadata": {
        "colab": {
          "base_uri": "https://localhost:8080/"
        },
        "id": "mUmFuUKNKgG5",
        "outputId": "cee95e08-89d9-470c-d112-cd2aca44cd19"
      },
      "execution_count": 7,
      "outputs": [
        {
          "output_type": "stream",
          "name": "stdout",
          "text": [
            "      Release Year                   Title Origin/Ethnicity          Director  \\\n",
            "3588          1943  I Walked with a Zombie         American  Jacques Tourneur   \n",
            "3589          1943       Immortal Sergeant         American     John M. Stahl   \n",
            "3590          1943         In Old Oklahoma         American  Albert S. Rogell   \n",
            "3591          1943          The Iron Major         American       Ray Enright   \n",
            "3592          1943  Isle of Forgotten Sins         American    Edgar G. Ulmer   \n",
            "\n",
            "                                      Cast         Genre  \\\n",
            "3588               Frances Dee, Tom Conway        horror   \n",
            "3589           Henry Fonda, Maureen O'Hara           war   \n",
            "3590  John Wayne, Martha Scott, Dale Evans       western   \n",
            "3591             Pat O'Brien, Ruth Warrick  biographical   \n",
            "3592      Gale Sondergaard, John Carradine     adventure   \n",
            "\n",
            "                                              Wiki Page  \\\n",
            "3588  https://en.wikipedia.org/wiki/I_Walked_with_a_...   \n",
            "3589    https://en.wikipedia.org/wiki/Immortal_Sergeant   \n",
            "3590      https://en.wikipedia.org/wiki/In_Old_Oklahoma   \n",
            "3591       https://en.wikipedia.org/wiki/The_Iron_Major   \n",
            "3592  https://en.wikipedia.org/wiki/Isle_of_Forgotte...   \n",
            "\n",
            "                                                   Plot  \n",
            "3588  Betsy Connell (Frances Dee), a Canadian nurse,...  \n",
            "3589  In North Africa, experienced Sergeant Kelly (T...  \n",
            "3590  Eastern school teacher Catherine Allen becomes...  \n",
            "3591  Florence Cavanaugh and a priest, Tim Donovan, ...  \n",
            "3592  Somewhere on one of the English-speaking South...  \n"
          ]
        }
      ]
    },
    {
      "cell_type": "code",
      "source": [
        "print(df.shape)\n",
        "print(len(df))\n",
        "a=df['Genre'].value_counts()[:20]\n",
        "b=a.keys().tolist()\n",
        "print(b)\n",
        "df=df[df.Genre.isin(b)]\n",
        "df=df.reset_index(drop=True)"
      ],
      "metadata": {
        "colab": {
          "base_uri": "https://localhost:8080/"
        },
        "id": "lV_GWcr3Knyj",
        "outputId": "32207828-feb2-47c1-d59f-820e7dc6ba8f"
      },
      "execution_count": 8,
      "outputs": [
        {
          "output_type": "stream",
          "name": "stdout",
          "text": [
            "(3531, 8)\n",
            "3531\n",
            "['drama', 'comedy', 'western', 'mystery', 'musical', 'adventure', 'romantic comedy', 'crime', 'musical comedy', 'comedy, drama', 'romance', 'drama, crime', 'comedy, musical', 'war', 'comedy drama', 'horror', 'drama, adventure', 'crime drama', 'comedy short', 'comedy, romance']\n"
          ]
        }
      ]
    },
    {
      "cell_type": "code",
      "source": [
        "sns.set(style=\"white\")\n",
        "genre_to_count=pd.DataFrame({'Genre':a.index, 'Count':a.values})\n",
        "plt.figure(figsize=(15,10))\n",
        "sns.barplot(y=\"Genre\", x=\"Count\", data=genre_to_count,palette=\"Blues_d\")\n"
      ],
      "metadata": {
        "colab": {
          "base_uri": "https://localhost:8080/",
          "height": 752
        },
        "id": "Im5zDx_eKucR",
        "outputId": "634ca474-c1b2-407c-a095-d32196d8cfd0"
      },
      "execution_count": 9,
      "outputs": [
        {
          "output_type": "execute_result",
          "data": {
            "text/plain": [
              "<Axes: xlabel='Count', ylabel='Genre'>"
            ]
          },
          "metadata": {},
          "execution_count": 9
        },
        {
          "output_type": "display_data",
          "data": {
            "text/plain": [
              "<Figure size 1500x1000 with 1 Axes>"
            ],
            "image/png": "[encoded data removed]"
          },
          "metadata": {}
        }
      ]
    },
    {
      "cell_type": "code",
      "source": [
        "def plotToWords(raw_plot):\n",
        "    letters_only = re.sub(\"[^a-zA-Z]\", \" \", raw_plot)\n",
        "    lower_case = letters_only.lower()\n",
        "    words = lower_case.split()\n",
        "    stops = set(stopwords.words(\"english\"))\n",
        "    meaningful_words = [w for w in words if not w in stops]\n",
        "    return (\" \".join(meaningful_words))\n"
      ],
      "metadata": {
        "id": "X_J1cLi7K2xj"
      },
      "execution_count": 10,
      "outputs": []
    },
    {
      "cell_type": "code",
      "source": [
        "def preprocess(dataframe):\n",
        "    clean_train_reviews = []\n",
        "    for i in range(0,len(dataframe)):\n",
        "        clean_train_reviews.append(plotToWords(dataframe.iloc[i]['Plot']))\n",
        "    dataframe['Plot']=clean_train_reviews\n",
        "    return dataframe"
      ],
      "metadata": {
        "id": "fojDFjszK9u3"
      },
      "execution_count": 11,
      "outputs": []
    },
    {
      "cell_type": "code",
      "source": [
        "df=preprocess(df)\n",
        "print(df[\"Plot\"][:10])"
      ],
      "metadata": {
        "colab": {
          "base_uri": "https://localhost:8080/"
        },
        "id": "rj2K5j7eLGxM",
        "outputId": "bb775a15-406c-4c6c-a1f4-25605454bc24"
      },
      "execution_count": 12,
      "outputs": [
        {
          "output_type": "stream",
          "name": "stdout",
          "text": [
            "0    film opens two bandits breaking railroad teleg...\n",
            "1    film family move suburbs hoping quiet life thi...\n",
            "2    heading baseball game nearby ballpark sports f...\n",
            "3    plot black woman going dentist toothache given...\n",
            "4    beautiful summer day father mother take daught...\n",
            "5    thug accosts girl leaves workplace man rescues...\n",
            "6    young couple decides elope caught midst romant...\n",
            "7    white girl florence lawrence rejects proposal ...\n",
            "8    prints first american film adaptation christma...\n",
            "9    film opens town mexican border poker game goin...\n",
            "Name: Plot, dtype: object\n"
          ]
        }
      ]
    },
    {
      "cell_type": "code",
      "source": [
        "from sklearn.feature_extraction.text import TfidfVectorizer\n",
        "tfidf = TfidfVectorizer(sublinear_tf=True, min_df=5, norm='l2', encoding='latin-1', ngram_range=(1, 2), max_features=4000)\n",
        "features = tfidf.fit_transform(df.Plot).toarray()\n",
        "labels = df.Genre\n",
        "features.shape"
      ],
      "metadata": {
        "colab": {
          "base_uri": "https://localhost:8080/"
        },
        "id": "MUvQkrmELPkG",
        "outputId": "09592e20-1736-493f-96f5-09c89fb56298"
      },
      "execution_count": 13,
      "outputs": [
        {
          "output_type": "execute_result",
          "data": {
            "text/plain": [
              "(2913, 4000)"
            ]
          },
          "metadata": {},
          "execution_count": 13
        }
      ]
    },
    {
      "cell_type": "code",
      "source": [
        "from sklearn.model_selection import train_test_split\n",
        "from sklearn.feature_extraction.text import CountVectorizer\n",
        "from sklearn.feature_extraction.text import TfidfTransformer\n",
        "from sklearn.naive_bayes import MultinomialNB\n",
        "X_train, X_test, y_train, y_test = train_test_split(df['Plot'], df['Genre'], random_state = 0)\n",
        "count_vect = CountVectorizer()\n",
        "X_train_counts = count_vect.fit_transform(X_train)\n",
        "tfidf_transformer = TfidfTransformer()\n",
        "X_train_tfidf = tfidf_transformer.fit_transform(X_train_counts)\n",
        "clf = MultinomialNB().fit(X_train_tfidf, y_train)\n"
      ],
      "metadata": {
        "id": "BVLESWT1LVYs"
      },
      "execution_count": 14,
      "outputs": []
    },
    {
      "cell_type": "code",
      "source": [
        "print(clf.predict(count_vect.transform([\"In an interview with CBC Radio, UniversitÃ© de MontrÃ©al History Professor Dominique St. Arnaud tells Diane about her new book, Variations on the Idea of Happiness, which discusses her thesis that modern society's fixation on self-indulgence is indicative of its decline, predicting a collapse in the \"\"American Empire,\"\" of which Quebec is on the periphery. Several of Dominique and Diane's friends, mostly intellectual history professors at the university, prepare for a dinner later in the day, with the men at work in the kitchen while the women work out at the gym. As the dinner draws nearer, the men and women mainly talk about their sex lives, with the men being open about their adulteries, including RÃ©my, who is married to Louise. Most of the women in the circle of friends have had sex with RÃ©my, though he is not attractive, but they conceal this from Louise to spare her feelings. Louise has been to an orgy with RÃ©my, but believes he is generally faithful to her in Montreal. The friends are also accepting of their homosexual friend Claude, who speaks about pursuing men reckless of fear of STDs, while secretly being fearful of having one. During the dinner party, the friends listen to Dominique's theories about the decline of society, with Louise expressing skepticism. To retaliate against Louise, Dominique reveals she has had sex with RÃ©my and their friend Pierre, causing her to have an emotional meltdown. By morning, relationships have gone back to normal.\"])))"
      ],
      "metadata": {
        "colab": {
          "base_uri": "https://localhost:8080/"
        },
        "id": "e3kQKkqFLb61",
        "outputId": "ac6d0a46-ea02-4f5c-e341-03655dfb7a68"
      },
      "execution_count": 15,
      "outputs": [
        {
          "output_type": "stream",
          "name": "stdout",
          "text": [
            "['drama']\n"
          ]
        }
      ]
    },
    {
      "cell_type": "code",
      "source": [
        "from sklearn.linear_model import LogisticRegression\n",
        "from sklearn.ensemble import RandomForestClassifier\n",
        "from sklearn.svm import LinearSVC\n",
        "from sklearn.model_selection import cross_val_score"
      ],
      "metadata": {
        "id": "m1kzwqHWLkUx"
      },
      "execution_count": 16,
      "outputs": []
    },
    {
      "cell_type": "code",
      "source": [
        "models = [\n",
        "    LinearSVC(),\n",
        "    MultinomialNB(),\n",
        "    LogisticRegression(random_state=0),\n",
        "]\n",
        "CV = 5\n",
        "cv_df = pd.DataFrame(index=range(CV * len(models)))\n",
        "entries = []\n",
        "for model in models:\n",
        "    model_name = model.__class__.__name__\n",
        "    accuracies = cross_val_score(model, features, labels, scoring='accuracy', cv=CV)\n",
        "    for fold_idx, accuracy in enumerate(accuracies):\n",
        "        entries.append((model_name, fold_idx, accuracy))\n",
        "cv_df = pd.DataFrame(entries, columns=['model_name', 'fold_idx', 'accuracy'])\n",
        "import seaborn as sns\n",
        "sns.boxplot(x='model_name', y='accuracy', data=cv_df)\n",
        "sns.stripplot(x='model_name', y='accuracy', data=cv_df,\n",
        "              size=8, jitter=True, edgecolor=\"gray\", linewidth=2)"
      ],
      "metadata": {
        "colab": {
          "base_uri": "https://localhost:8080/",
          "height": 475
        },
        "id": "0Ov9uM9nL2wg",
        "outputId": "40f659b5-8e09-41dc-fb46-90a4aab1f111"
      },
      "execution_count": 17,
      "outputs": [
        {
          "output_type": "execute_result",
          "data": {
            "text/plain": [
              "<Axes: xlabel='model_name', ylabel='accuracy'>"
            ]
          },
          "metadata": {},
          "execution_count": 17
        },
        {
          "output_type": "display_data",
          "data": {
            "text/plain": [
              "<Figure size 640x480 with 1 Axes>"
            ],
            "image/png": "[encoded data removed]"
          },
          "metadata": {}
        }
      ]
    },
    {
      "cell_type": "code",
      "source": [
        "plt.show()"
      ],
      "metadata": {
        "id": "HXOKrKRoMSwp"
      },
      "execution_count": 18,
      "outputs": []
    },
    {
      "cell_type": "code",
      "source": [
        "cv_df.groupby('model_name').accuracy.mean()"
      ],
      "metadata": {
        "colab": {
          "base_uri": "https://localhost:8080/"
        },
        "id": "PRvaSUJTMd_7",
        "outputId": "f06a3444-4a33-435d-e96b-484ca556b88e"
      },
      "execution_count": 19,
      "outputs": [
        {
          "output_type": "execute_result",
          "data": {
            "text/plain": [
              "model_name\n",
              "LinearSVC             0.476495\n",
              "LogisticRegression    0.451088\n",
              "MultinomialNB         0.409888\n",
              "Name: accuracy, dtype: float64"
            ]
          },
          "metadata": {},
          "execution_count": 19
        }
      ]
    }
  ]
}